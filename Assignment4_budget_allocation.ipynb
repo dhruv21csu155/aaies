{
  "nbformat": 4,
  "nbformat_minor": 0,
  "metadata": {
    "colab": {
      "provenance": [],
      "include_colab_link": true
    },
    "kernelspec": {
      "name": "python3",
      "display_name": "Python 3"
    },
    "language_info": {
      "name": "python"
    }
  },
  "cells": [
    {
      "cell_type": "markdown",
      "metadata": {
        "id": "view-in-github",
        "colab_type": "text"
      },
      "source": [
        "<a href=\"https://colab.research.google.com/github/dhruv21csu155/aaies/blob/main/Assignment4_budget_allocation.ipynb\" target=\"_parent\"><img src=\"https://colab.research.google.com/assets/colab-badge.svg\" alt=\"Open In Colab\"/></a>"
      ]
    },
    {
      "cell_type": "markdown",
      "source": [
        "<b>The Problem Statement</b>:\n",
        "\n",
        "Write a Greedy Algorithm Based program for the following problem:\n",
        "A company is planning to launch a new product. They have a limited budget to spend on marketing and advertising. They need to decide how to allocate their budget to maximize the number of people who will be aware of their product.\n",
        "Marketing Channels:\n",
        "\n",
        "\n",
        "Social Media: Cost - 50,  Reach - 1000 people aware of the product.\n",
        "\n",
        "\n",
        "Email Campaign: Cost - $80, Reach - 1500 people aware of the product.</br>\n",
        "\n",
        "\n",
        "Influencer Collaboration: Cost - $120, Reach - 2500 people aware of the product.\n",
        "\n",
        "Budget Constraint: $200\n",
        "\n",
        "Now, the company wants to allocate their budget to these marketing channels in such a way that they maximize the total number of people aware of their product.\n",
        "\n",
        "\n",
        "\n",
        "\n",
        "\n"
      ],
      "metadata": {
        "id": "5r2msEl9py3R"
      }
    },
    {
      "cell_type": "markdown",
      "source": [
        "## The Code"
      ],
      "metadata": {
        "id": "hi0nFuvoppT9"
      }
    },
    {
      "cell_type": "markdown",
      "source": [
        "### Imports"
      ],
      "metadata": {
        "id": "q1ABUPU7L6em"
      }
    },
    {
      "cell_type": "code",
      "source": [
        "import heapq"
      ],
      "metadata": {
        "id": "i3TtxZ2SL6en"
      },
      "execution_count": 1,
      "outputs": []
    },
    {
      "cell_type": "markdown",
      "source": [
        "### Definition of Heuristic Functions"
      ],
      "metadata": {
        "id": "hnp5US3YLdEb"
      }
    },
    {
      "cell_type": "code",
      "source": [
        "# Define marketing channels as a list of dictionaries\n",
        "marketing_channels = [\n",
        "    {\"name\": \"Social Media\", \"cost\": 50, \"reach\": 1000},\n",
        "    {\"name\": \"Email Campaign\", \"cost\": 80, \"reach\": 1500},\n",
        "    {\"name\": \"Influencer Collaboration\", \"cost\": 120, \"reach\": 2500},\n",
        "]\n",
        "\n",
        "# Define the budget constraint\n",
        "budget_constraint = 200\n",
        "\n",
        "# Define heuristic functions\n",
        "def reach_to_cost_ratio_heuristic(reach, cost):\n",
        "    return reach / cost\n",
        "\n",
        "def reach_heuristic(reach):\n",
        "    return reach\n",
        "\n",
        "# Sort the marketing channels based on the heuristic function (choose one)\n",
        "sorted_channels = sorted(marketing_channels, key=lambda x: reach_to_cost_ratio_heuristic(x[\"reach\"], x[\"cost\"]), reverse=True)\n",
        "# sorted_channels = sorted(marketing_channels, key=lambda x: reach_heuristic(x[\"reach\"]), reverse=True)\n",
        "\n",
        "# Initialize variables\n",
        "allocated_budget = 0\n",
        "people_aware = 0\n",
        "\n",
        "# Allocate the budget to maximize the number of people aware of the product\n",
        "for channel in sorted_channels:\n",
        "    if allocated_budget + channel[\"cost\"] <= budget_constraint:\n",
        "        allocated_budget += channel[\"cost\"]\n",
        "        people_aware += channel[\"reach\"]\n",
        "\n",
        "# Print the results\n",
        "print(f\"Optimal budget allocation to maximize awareness: ${allocated_budget}\")\n",
        "print(f\"Number of people aware of the product: {people_aware}\")\n"
      ],
      "metadata": {
        "id": "2XryJbWuLdEc",
        "outputId": "e7d6ba52-b401-4601-a19a-5e2951f82cf8",
        "colab": {
          "base_uri": "https://localhost:8080/"
        }
      },
      "execution_count": 3,
      "outputs": [
        {
          "output_type": "stream",
          "name": "stdout",
          "text": [
            "Optimal budget allocation to maximize awareness: $170\n",
            "Number of people aware of the product: 3500\n"
          ]
        }
      ]
    },
    {
      "cell_type": "markdown",
      "source": [
        "### Priority Queue Creation"
      ],
      "metadata": {
        "id": "EULYS1zCLF6l"
      }
    },
    {
      "cell_type": "code",
      "source": [
        "import heapq\n",
        "\n",
        "def create_priority_queue(channels, heuristic_function):\n",
        "    \"\"\"\n",
        "    Create a priority queue based on a specified heuristic function.\n",
        "\n",
        "    Args:\n",
        "        channels (list): List of marketing channels as tuples (reach, cost, channel_name).\n",
        "        heuristic_function (function): A function to calculate the priority score for a channel.\n",
        "\n",
        "    Returns:\n",
        "        list: A priority queue of channels.\n",
        "    \"\"\"\n",
        "    priority_queue = []\n",
        "\n",
        "    for channel in channels:\n",
        "        reach, cost, channel_name = channel\n",
        "        priority_score = heuristic_function(reach, cost)\n",
        "        heapq.heappush(priority_queue, (-priority_score, channel_name))\n",
        "\n",
        "    return priority_queue\n",
        "\n",
        "# Example usage:\n",
        "marketing_channels = [\n",
        "    (1000, 50, \"Social Media\"),\n",
        "    (1500, 80, \"Email Campaign\"),\n",
        "    (2500, 120, \"Influencer Collaboration\"),\n",
        "]\n",
        "\n",
        "reach_to_cost_ratio_queue = create_priority_queue(marketing_channels, lambda reach, cost: reach / cost)\n",
        "reach_queue = create_priority_queue(marketing_channels, lambda reach, cost: reach)\n",
        "\n",
        "print(\"Priority Queue based on Reach-to-Cost Ratio:\")\n",
        "while reach_to_cost_ratio_queue:\n",
        "    priority_score, channel_name = heapq.heappop(reach_to_cost_ratio_queue)\n",
        "    print(f\"{channel_name}: Priority Score = {-priority_score}\")\n",
        "\n",
        "print(\"\\nPriority Queue based on Reach:\")\n",
        "while reach_queue:\n",
        "    priority_score, channel_name = heapq.heappop(reach_queue)\n",
        "    print(f\"{channel_name}: Priority Score = {-priority_score}\")\n"
      ],
      "metadata": {
        "id": "dnAv1jaZLF6l",
        "outputId": "d4276019-4135-488a-842d-0a055fdb7028",
        "colab": {
          "base_uri": "https://localhost:8080/"
        }
      },
      "execution_count": 4,
      "outputs": [
        {
          "output_type": "stream",
          "name": "stdout",
          "text": [
            "Priority Queue based on Reach-to-Cost Ratio:\n",
            "Influencer Collaboration: Priority Score = 20.833333333333332\n",
            "Social Media: Priority Score = 20.0\n",
            "Email Campaign: Priority Score = 18.75\n",
            "\n",
            "Priority Queue based on Reach:\n",
            "Influencer Collaboration: Priority Score = 2500\n",
            "Email Campaign: Priority Score = 1500\n",
            "Social Media: Priority Score = 1000\n"
          ]
        }
      ]
    },
    {
      "cell_type": "markdown",
      "source": [
        "### Define the Greedy algorithm"
      ],
      "metadata": {
        "id": "WZrvsX8_ri3a"
      }
    },
    {
      "cell_type": "code",
      "source": [
        "def greedy_allocation(priority_queue, budget):\n",
        "    \"\"\"\n",
        "    Allocate budget greedily based on the priority queue.\n",
        "\n",
        "    Args:\n",
        "        priority_queue (list): A priority queue of channels.\n",
        "        budget (int): The budget constraint.\n",
        "\n",
        "    Returns:\n",
        "        list: A list of allocated channels.\n",
        "    \"\"\"\n",
        "    allocated_channels = []\n",
        "    remaining_budget = budget\n",
        "\n",
        "    while priority_queue and remaining_budget > 0:\n",
        "        _, channel_name = heapq.heappop(priority_queue)\n",
        "\n",
        "        for channel in marketing_channels:\n",
        "            if channel[2] == channel_name:\n",
        "                reach, cost, _ = channel\n",
        "                if cost <= remaining_budget:\n",
        "                    allocated_channels.append((channel_name, reach))\n",
        "                    remaining_budget -= cost\n",
        "\n",
        "    return allocated_channels\n",
        "\n",
        "# Example usage:\n",
        "budget_constraint = 200\n",
        "\n",
        "allocation_based_on_reach_to_cost_ratio = greedy_allocation(reach_to_cost_ratio_queue, budget_constraint)\n",
        "allocation_based_on_reach = greedy_allocation(reach_queue, budget_constraint)\n",
        "\n",
        "print(\"Allocation based on Reach-to-Cost Ratio:\")\n",
        "for channel, reach in allocation_based_on_reach_to_cost_ratio:\n",
        "    print(f\"{channel}: Allocated Reach = {reach}\")\n",
        "\n",
        "print(\"\\nAllocation based on Reach:\")\n",
        "for channel, reach in allocation_based_on_reach:\n",
        "    print(f\"{channel}: Allocated Reach = {reach}\")\n"
      ],
      "metadata": {
        "id": "Lk7ipyj16Jx8",
        "outputId": "4716b972-abdc-4e91-8551-77c40d9d2c4a",
        "colab": {
          "base_uri": "https://localhost:8080/"
        }
      },
      "execution_count": 6,
      "outputs": [
        {
          "output_type": "stream",
          "name": "stdout",
          "text": [
            "Allocation based on Reach-to-Cost Ratio:\n",
            "\n",
            "Allocation based on Reach:\n"
          ]
        }
      ]
    },
    {
      "cell_type": "markdown",
      "source": [
        "### Mai function to solve the problem"
      ],
      "metadata": {
        "id": "TYRZ-f3G6Tpj"
      }
    },
    {
      "cell_type": "code",
      "source": [
        "def main():\n",
        "    \"\"\"\n",
        "    Driver function for the marketing budget problem.\n",
        "    \"\"\"\n",
        "    # Create priority queues based on two different heuristics\n",
        "    reach_to_cost_ratio_queue = create_priority_queue(marketing_channels, lambda reach, cost: reach / cost)\n",
        "    reach_queue = create_priority_queue(marketing_channels, lambda reach, cost: reach)\n",
        "\n",
        "    print(\"Priority Queue based on Reach-to-Cost Ratio:\")\n",
        "    while reach_to_cost_ratio_queue:\n",
        "        priority_score, channel_name = heapq.heappop(reach_to_cost_ratio_queue)\n",
        "        print(f\"{channel_name}: Priority Score = {-priority_score}\")\n",
        "\n",
        "    print(\"\\nPriority Queue based on Reach:\")\n",
        "    while reach_queue:\n",
        "        priority_score, channel_name = heapq.heappop(reach_queue)\n",
        "        print(f\"{channel_name}: Priority Score = {-priority_score}\")\n",
        "\n",
        "    # Allocate budget based on the priority queues\n",
        "    budget_constraint = 200\n",
        "\n",
        "    allocation_based_on_reach_to_cost_ratio = greedy_allocation(reach_to_cost_ratio_queue, budget_constraint)\n",
        "    allocation_based_on_reach = greedy_allocation(reach_queue, budget_constraint)\n",
        "\n",
        "    print(\"\\nAllocation based on Reach-to-Cost Ratio:\")\n",
        "    for channel, reach in allocation_based_on_reach_to_cost_ratio:\n",
        "        print(f\"{channel}: Allocated Reach = {reach}\")\n",
        "\n",
        "    print(\"\\nAllocation based on Reach:\")\n",
        "    for channel, reach in allocation_based_on_reach:\n",
        "        print(f\"{channel}: Allocated Reach = {reach}\")\n",
        "\n",
        "if __name__ == \"__main__\":\n",
        "    main()\n",
        "\n"
      ],
      "metadata": {
        "id": "VFUkDQUY6WiX",
        "outputId": "3869f33e-662b-4a14-8e51-d4a6c30efd85",
        "colab": {
          "base_uri": "https://localhost:8080/"
        }
      },
      "execution_count": 7,
      "outputs": [
        {
          "output_type": "stream",
          "name": "stdout",
          "text": [
            "Priority Queue based on Reach-to-Cost Ratio:\n",
            "Influencer Collaboration: Priority Score = 20.833333333333332\n",
            "Social Media: Priority Score = 20.0\n",
            "Email Campaign: Priority Score = 18.75\n",
            "\n",
            "Priority Queue based on Reach:\n",
            "Influencer Collaboration: Priority Score = 2500\n",
            "Email Campaign: Priority Score = 1500\n",
            "Social Media: Priority Score = 1000\n",
            "\n",
            "Allocation based on Reach-to-Cost Ratio:\n",
            "\n",
            "Allocation based on Reach:\n"
          ]
        }
      ]
    },
    {
      "cell_type": "code",
      "source": [],
      "metadata": {
        "id": "2am5lYuyNyX3"
      },
      "execution_count": null,
      "outputs": []
    }
  ]
}